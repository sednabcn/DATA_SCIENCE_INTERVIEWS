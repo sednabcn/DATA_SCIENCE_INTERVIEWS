{
  "nbformat": 4,
  "nbformat_minor": 0,
  "metadata": {
    "colab": {
      "provenance": []
    },
    "kernelspec": {
      "name": "python3",
      "display_name": "Python 3"
    },
    "language_info": {
      "name": "python"
    }
  },
  "cells": [
    {
      "cell_type": "markdown",
      "source": [
        "# Title: Data Analysis Exercise: Our World in Data Junior Data Scientist Application\n",
        "Author: Ruperto Pedro Bonet Chaple\n",
        "Email: ruperto.bonet@gmail.com\n",
        "Goal: Calculate the crude death rate and age-standardized rate for the United States and Uganda (1950-2021)\n"
      ],
      "metadata": {
        "id": "4u_eM2NYbz37"
      }
    },
    {
      "cell_type": "markdown",
      "source": [
        "# Report about the Data Analysis Exercise: Our World in Data Junior Data Scientist Application\n",
        "\n",
        "Tools:\n",
        "\n",
        "a) Data Portal API using Python.\n",
        "b) PDF files obtained from:\n",
        "- Paper: Omar B. Ahmad, Cynthia Boscht-Pinto et al. \"Age Standardization of Rates: A New WHO Standard\". CPE Discussion Paper Series: No 31, EIP/GPE/EBD. World Health Organization 2001.\n",
        "- https://owid.notion.site/Data-analysis-exercise-Our-World-in-Data-Junior-Data-Scientist-application-ab287a3c07264b4d91aadc436021b8c0\n",
        "\n",
        "Methodology:\n",
        "\n",
        "1) Use the WHO API to retireve data on the indicator 46: \"Population estimates (variant: Median) of the United States and Uganda (1950-2021)\n",
        "2) Data mining to obtain the Population Estimates Table (pop_est dataFrame).\n",
        "3) Extract tables from the PDFs using camelot-py[all] Python tool to build the\n",
        "dataframes age_st (\"Age Standard Population Distribution (%)\") and death_rate (\"Age-Specific Death Rates of COPD Table\").\n",
        "\n",
        "Assumptions:\n",
        "\n",
        "1) The aggregation of data for the Population Estimates over age 85 is cumulative.\n",
        "\n",
        "2) The Age Standard Population belongs to the Total Population for the calculation of the Age-Specific Death Rate (ASDR).\n",
        "\n",
        "Results:\n",
        "\n",
        "1) A comparison between the Crude Death Rate (CDR) results and the results published by WHO in 2019 showed notable differences in the United States CDR. The aggregation of data for ages over 85 may be the primary cause of this discrepancy.\n",
        "\n",
        "2) The age-standardized death rates showed similar results between both countries using different measures: Segi (\"world\") standard Scandinavian and (\"European\") standard WHO World Standard*. However, there are significant differences between them despite having similar means.\n",
        "\n",
        "Difficulties:\n",
        "\n",
        "1)  Several technical difficulties were encountered with the internet provider, and,\n",
        "\n",
        "2) finding the right Camelot version available for Python 3.10 in Google Colab.\n",
        "\n",
        "Observations:\n",
        "\n",
        "The notebook Population_WHO_un_1.ipynb shows the deadline time according to the techical difficulties"
      ],
      "metadata": {
        "id": "jBwjCIp6cKq_"
      }
    },
    {
      "cell_type": "markdown",
      "source": [
        "# Introduction:\n",
        "# Crude Death Rate (CDR)\n",
        "The crude death rate (CDR) is a basic measure used in demography and public health to provide an estimate of the number of deaths in a population over a specific period of time, usually expressed per 1,000 individuals per year\n",
        "# Age-standardized death rates(ASDRs)\n",
        " The age-standardized death rates (ASDRs) is a method used to compare mortality rates across populations with different age structures. It's particularly useful for comparing the mortality rates of different regions or over time within the same region, where the age distribution might change. The basic idea is to apply the observed age-specific death rates of a population to a standard population structure, so that differences observed in the standardized rates are not due to differences in the age distribution of the populations being compared."
      ],
      "metadata": {
        "id": "g08sO0kndg-X"
      }
    },
    {
      "cell_type": "code",
      "execution_count": null,
      "metadata": {
        "id": "Ep8JwdRZzxt3"
      },
      "outputs": [],
      "source": [
        "\n",
        "import pandas as pd\n",
        "import requests\n",
        "import json\n",
        "import urllib3\n",
        "import ssl\n"
      ]
    },
    {
      "cell_type": "markdown",
      "source": [
        "UPLOADING FILES"
      ],
      "metadata": {
        "id": "T9MY_6nTvV2l"
      }
    },
    {
      "cell_type": "code",
      "source": [
        "from google.colab import drive\n",
        "drive.mount('/content/drive')"
      ],
      "metadata": {
        "id": "po7OlXBCm9Bc",
        "colab": {
          "base_uri": "https://localhost:8080/"
        },
        "outputId": "b77bcaa0-16a5-4525-c671-b51400055d31"
      },
      "execution_count": null,
      "outputs": [
        {
          "output_type": "stream",
          "name": "stdout",
          "text": [
            "Drive already mounted at /content/drive; to attempt to forcibly remount, call drive.mount(\"/content/drive\", force_remount=True).\n"
          ]
        }
      ]
    },
    {
      "cell_type": "code",
      "source": [
        "!cp -r /content/drive/MyDrive/DATA_TESTS/age_st.pdf /content/\n",
        "!cp -r /content/drive/MyDrive/DATA_TESTS/dataexe01.pdf /content/"
      ],
      "metadata": {
        "id": "-T1ThaKN2Ek8"
      },
      "execution_count": null,
      "outputs": []
    },
    {
      "cell_type": "code",
      "source": [
        "!pip install pypdf2==3.0.1"
      ],
      "metadata": {
        "id": "MLpls3nN6vC6",
        "colab": {
          "base_uri": "https://localhost:8080/"
        },
        "outputId": "00785b8f-442b-41e1-87a1-7c43da90f852"
      },
      "execution_count": null,
      "outputs": [
        {
          "output_type": "stream",
          "name": "stdout",
          "text": [
            "Requirement already satisfied: pypdf2==3.0.1 in /usr/local/lib/python3.10/dist-packages (3.0.1)\n"
          ]
        }
      ]
    },
    {
      "cell_type": "code",
      "source": [
        "Path ='/content/age_st.pdf'\n",
        "Path1='/content/dataexe01.pdf'"
      ],
      "metadata": {
        "id": "SLt3bMmu6Uvi"
      },
      "execution_count": null,
      "outputs": []
    },
    {
      "cell_type": "code",
      "source": [
        "!pip install -U camelot-py==0.11.0"
      ],
      "metadata": {
        "id": "flkAWneUjXLZ",
        "colab": {
          "base_uri": "https://localhost:8080/"
        },
        "outputId": "d9dc84c1-7b13-435b-e268-a53856ec969c"
      },
      "execution_count": null,
      "outputs": [
        {
          "output_type": "stream",
          "name": "stdout",
          "text": [
            "Requirement already satisfied: camelot-py==0.11.0 in /usr/local/lib/python3.10/dist-packages (0.11.0)\n",
            "Requirement already satisfied: chardet>=3.0.4 in /usr/local/lib/python3.10/dist-packages (from camelot-py==0.11.0) (5.2.0)\n",
            "Requirement already satisfied: click>=6.7 in /usr/local/lib/python3.10/dist-packages (from camelot-py==0.11.0) (8.1.7)\n",
            "Requirement already satisfied: numpy>=1.13.3 in /usr/local/lib/python3.10/dist-packages (from camelot-py==0.11.0) (1.25.2)\n",
            "Requirement already satisfied: openpyxl>=2.5.8 in /usr/local/lib/python3.10/dist-packages (from camelot-py==0.11.0) (3.1.2)\n",
            "Requirement already satisfied: pandas>=0.23.4 in /usr/local/lib/python3.10/dist-packages (from camelot-py==0.11.0) (1.5.3)\n",
            "Requirement already satisfied: pdfminer.six>=20200726 in /usr/local/lib/python3.10/dist-packages (from camelot-py==0.11.0) (20231228)\n",
            "Requirement already satisfied: pypdf>=3.0.0 in /usr/local/lib/python3.10/dist-packages (from camelot-py==0.11.0) (4.1.0)\n",
            "Requirement already satisfied: tabulate>=0.8.9 in /usr/local/lib/python3.10/dist-packages (from camelot-py==0.11.0) (0.9.0)\n",
            "Requirement already satisfied: et-xmlfile in /usr/local/lib/python3.10/dist-packages (from openpyxl>=2.5.8->camelot-py==0.11.0) (1.1.0)\n",
            "Requirement already satisfied: python-dateutil>=2.8.1 in /usr/local/lib/python3.10/dist-packages (from pandas>=0.23.4->camelot-py==0.11.0) (2.8.2)\n",
            "Requirement already satisfied: pytz>=2020.1 in /usr/local/lib/python3.10/dist-packages (from pandas>=0.23.4->camelot-py==0.11.0) (2023.4)\n",
            "Requirement already satisfied: charset-normalizer>=2.0.0 in /usr/local/lib/python3.10/dist-packages (from pdfminer.six>=20200726->camelot-py==0.11.0) (3.3.2)\n",
            "Requirement already satisfied: cryptography>=36.0.0 in /usr/local/lib/python3.10/dist-packages (from pdfminer.six>=20200726->camelot-py==0.11.0) (42.0.5)\n",
            "Requirement already satisfied: cffi>=1.12 in /usr/local/lib/python3.10/dist-packages (from cryptography>=36.0.0->pdfminer.six>=20200726->camelot-py==0.11.0) (1.16.0)\n",
            "Requirement already satisfied: six>=1.5 in /usr/local/lib/python3.10/dist-packages (from python-dateutil>=2.8.1->pandas>=0.23.4->camelot-py==0.11.0) (1.16.0)\n",
            "Requirement already satisfied: pycparser in /usr/local/lib/python3.10/dist-packages (from cffi>=1.12->cryptography>=36.0.0->pdfminer.six>=20200726->camelot-py==0.11.0) (2.21)\n"
          ]
        }
      ]
    },
    {
      "cell_type": "code",
      "source": [
        "class CustomHttpAdapter (requests.adapters.HTTPAdapter):\n",
        "    # \"Transport adapter\" that allows us to use custom ssl_context.\n",
        "\n",
        "    def __init__(self, ssl_context=None, **kwargs):\n",
        "        self.ssl_context = ssl_context\n",
        "        super().__init__(**kwargs)\n",
        "\n",
        "    def init_poolmanager(self, connections, maxsize, block=False):\n",
        "        self.poolmanager = urllib3.poolmanager.PoolManager(\n",
        "            num_pools=connections, maxsize=maxsize,\n",
        "            block=block, ssl_context=self.ssl_context)\n",
        "\n",
        "\n",
        "def get_legacy_session():\n",
        "    ctx = ssl.create_default_context(ssl.Purpose.SERVER_AUTH)\n",
        "    ctx.options |= 0x4  # OP_LEGACY_SERVER_CONNECT\n",
        "    session = requests.session()\n",
        "    session.mount('https://', CustomHttpAdapter(ctx))\n",
        "    return session"
      ],
      "metadata": {
        "id": "u3yb-hOa_vM2"
      },
      "execution_count": null,
      "outputs": []
    },
    {
      "cell_type": "markdown",
      "source": [
        "# Define a function that order a DataFrame by the column with range ['a-b']"
      ],
      "metadata": {
        "id": "Oyt8kpaUnOHS"
      }
    },
    {
      "cell_type": "code",
      "source": [
        "def data_range_sort(data:pd.DataFrame(), index_col,reverse:bool=False):\n",
        "                  def tt(x):\n",
        "                      for ch in ['-','+']:\n",
        "                          if ch in x:\n",
        "                              return int(x.replace(ch,' ').split()[0])\n",
        "                  newd=[(ii,tt(y)) for ii,y in enumerate(data[data.columns[index_col]])]\n",
        "                  newd.sort(key=lambda x:x[1],reverse=reverse)\n",
        "                  new_order=[item[0] for item in newd]\n",
        "                  return data.loc[new_order,:]"
      ],
      "metadata": {
        "id": "ifklL8ivnAzh"
      },
      "execution_count": null,
      "outputs": []
    },
    {
      "cell_type": "markdown",
      "source": [
        "Define a function to extract a table from a PDF  document"
      ],
      "metadata": {
        "id": "HA4ZXTEFsLUk"
      }
    },
    {
      "cell_type": "code",
      "source": [
        "def extract_table_from_pdf(path,page_number:int,flavor:str=\"stream\",stdout:bool=True):\n",
        "           import camelot\n",
        "\n",
        "           return camelot.read_pdf(path,flavor=\"stream\",suppress_stdout=True,\n",
        "                        pages=\"all\")[page_number].df\n"
      ],
      "metadata": {
        "id": "fGm9rmGdsMOf"
      },
      "execution_count": null,
      "outputs": []
    },
    {
      "cell_type": "markdown",
      "source": [],
      "metadata": {
        "id": "0gtP7RNgnldM"
      }
    },
    {
      "cell_type": "markdown",
      "source": [
        "# Define a function that will take a relative path as an input, call the API, and return a dataframe\n"
      ],
      "metadata": {
        "id": "r5x0qc9c0OMM"
      }
    },
    {
      "cell_type": "code",
      "source": [
        "def callAPI(relative_path:str, topic_list:bool = False) -> pd.DataFrame:\n",
        "\n",
        "\n",
        "\n",
        "    base_url = \"https://population.un.org/dataportalapi/api/v1\"\n",
        "\n",
        "    target = base_url + relative_path # Query string parameters may be appended here or directly in the provided relative path\n",
        "    # Calls the API\n",
        "    #response = requests.get(target, verify=False)\n",
        "    response = get_legacy_session().get(target)\n",
        "\n",
        "    # Reformats response into a JSON object\n",
        "    j = response.json()\n",
        "\n",
        "    # The block below will deal with paginated results.\n",
        "    # If results not paginated, this will be skipped.\n",
        "    try:\n",
        "    # If results are paginated, they are transformed into a python dictionary.\n",
        "    # The data may be accessed using the 'data' key of the dictionary.\n",
        "        df = pd.json_normalize(j['data'])\n",
        "        # As long as the nextPage key of the dictionary contains an address for the next API call, the function will continue to call the API and append the results to the dataframe.\n",
        "        while j['nextPage'] is not None:\n",
        "                #response = requests.get(j['nextPage'])\n",
        "                response = get_legacy_session().get(j['nextPage'])\n",
        "                j = response.json()\n",
        "                df_temp = pd.json_normalize(j['data'])\n",
        "                df = df._append(df_temp)\n",
        "    except:\n",
        "           if topic_list:\n",
        "                df = pd.json_normalize(j, 'indicators')\n",
        "           else:\n",
        "                df = pd.DataFrame(j)\n",
        "    return(df)\n"
      ],
      "metadata": {
        "id": "KO6hK5zF0Q3Y"
      },
      "execution_count": null,
      "outputs": []
    },
    {
      "cell_type": "markdown",
      "source": [
        "# Uses callAPI function to get a list of parameters of Population Estimates(1950-2021) in the locations : United States and Uganda"
      ],
      "metadata": {
        "id": "hfnozHcZ0Ya2"
      }
    },
    {
      "cell_type": "code",
      "source": [
        "df_ily = callAPI(\"/data/indicators/46/locations/800,840/start/1950/end/2021\")"
      ],
      "metadata": {
        "id": "0i5v2bkH0hPQ"
      },
      "execution_count": null,
      "outputs": []
    },
    {
      "cell_type": "markdown",
      "source": [
        "\n",
        "# Extract he values of population with the variant \"Median\" acording the indicator Id=46 :Population by 5-year age groups and sex\n",
        "# Get the values of population estimates of Uganda (1950-2021) based on the 5-year-age groups and sex\n"
      ],
      "metadata": {
        "id": "vW2_xDj8nn5i"
      }
    },
    {
      "cell_type": "code",
      "source": [
        "UGA_pop=df_ily.loc[df_ily[\"locationId\"]==800][[\"ageLabel\",\"value\"]].groupby(\"ageLabel\").sum().reset_index()\n"
      ],
      "metadata": {
        "id": "PxgzI0U3nqMv"
      },
      "execution_count": null,
      "outputs": []
    },
    {
      "cell_type": "markdown",
      "source": [
        " Get the values of population estimates of USA (1950-2021) based on the 5-year-age groups and sex"
      ],
      "metadata": {
        "id": "Lp1j_DXvDin9"
      }
    },
    {
      "cell_type": "code",
      "source": [
        "USA_pop=df_ily.loc[df_ily[\"locationId\"]==840][[\"ageLabel\",\"value\"]].groupby(\"ageLabel\").sum().reset_index()"
      ],
      "metadata": {
        "id": "DGwe_MqODvOT"
      },
      "execution_count": null,
      "outputs": []
    },
    {
      "cell_type": "markdown",
      "source": [
        "# Build a table concatenating these dataframes: USA_pop and UGA_pop"
      ],
      "metadata": {
        "id": "2ZZDrbtLnyP8"
      }
    },
    {
      "cell_type": "code",
      "source": [
        "pop_estimates=pd.concat([USA_pop,UGA_pop],axis=1)"
      ],
      "metadata": {
        "id": "ahMgNNBen8fK"
      },
      "execution_count": null,
      "outputs": []
    },
    {
      "cell_type": "markdown",
      "source": [
        " Drop duplicate columns \"ageLabel\""
      ],
      "metadata": {
        "id": "E7TtDBy_oMxI"
      }
    },
    {
      "cell_type": "code",
      "source": [
        "pop_estimates=pop_estimates.T.drop_duplicates().T"
      ],
      "metadata": {
        "id": "-TsD6lV7oOP-"
      },
      "execution_count": null,
      "outputs": []
    },
    {
      "cell_type": "markdown",
      "source": [
        "#Sort the DataFrame by the columns \"ageLabel\""
      ],
      "metadata": {
        "id": "8vwRfbhvoBu6"
      }
    },
    {
      "cell_type": "code",
      "source": [
        "pop_est=data_range_sort(pop_estimates,0)"
      ],
      "metadata": {
        "id": "xl-za7ZQoGdY"
      },
      "execution_count": null,
      "outputs": []
    },
    {
      "cell_type": "markdown",
      "source": [
        "Rename the columns of pop_estimates with the columns:[\"Age group(years)\",\"United States,1950-2021\",\"Uganda,1950-2021\"])"
      ],
      "metadata": {
        "id": "yKOu9uUaofCZ"
      }
    },
    {
      "cell_type": "code",
      "source": [
        "pop_est.columns=[\"Age group(years)\",\"United States,1950-2021\",\"Uganda,1950-2021\"]\n",
        "pop_est=pop_est.reset_index(drop=True)\n",
        "print(pop_est)\n",
        "pop_est.to_csv(\"pop_est.csv\")\n"
      ],
      "metadata": {
        "id": "bx0B9czLogvL",
        "colab": {
          "base_uri": "https://localhost:8080/"
        },
        "outputId": "c25ba626-7b78-4bde-d8ca-a46c4e486394"
      },
      "execution_count": null,
      "outputs": [
        {
          "output_type": "stream",
          "name": "stdout",
          "text": [
            "   Age group(years) United States,1950-2021 Uganda,1950-2021\n",
            "0               0-4            2665210640.0      519693594.0\n",
            "1               5-9            2668027455.0      430624776.0\n",
            "2             10-14            2679617305.0      364621694.0\n",
            "3             15-19            2641486119.0      304857173.0\n",
            "4             20-24            2577774727.0      247983694.0\n",
            "5             25-29            2545208491.0      196924943.0\n",
            "6             30-34            2503870046.0      154941831.0\n",
            "7             35-39            2414993437.0      122755538.0\n",
            "8             40-44            2310941145.0       98369926.0\n",
            "9             45-49            2179233684.0       78607475.0\n",
            "10            50-54            2031594854.0       61767003.0\n",
            "11            55-59            1846346004.0       47654243.0\n",
            "12            60-64            1607991820.0       35805208.0\n",
            "13            65-69            1363344713.0       25540584.0\n",
            "14            70-74            1074644842.0       16577941.0\n",
            "15            75-79             791310710.0        9379062.0\n",
            "16            80-84             516180293.0        4328277.0\n",
            "17            85-89             280311477.0        1447730.0\n",
            "18            90-94             109315002.0         309845.0\n",
            "19            95-99              26921208.0          33614.0\n",
            "20             100+               3917208.0           2974.0\n"
          ]
        }
      ]
    },
    {
      "cell_type": "code",
      "source": [
        "\n",
        "pop_est.loc[17,pop_est.columns[1:3]]=pop_est.loc[17:21,pop_est.columns[1:3]].sum()\n",
        "pop_est.loc[17,pop_est.columns[0]]=\"85+\"\n",
        "pop_est=pop_est.drop(index=[18,19,20])\n"
      ],
      "metadata": {
        "id": "BpoeiYB1Zi6d"
      },
      "execution_count": null,
      "outputs": []
    },
    {
      "cell_type": "code",
      "source": [
        "print(pop_est)"
      ],
      "metadata": {
        "colab": {
          "base_uri": "https://localhost:8080/"
        },
        "id": "rVIpx0o3u3Vq",
        "outputId": "7cea93b5-47c5-43e9-ef09-5a22391ff0ab"
      },
      "execution_count": null,
      "outputs": [
        {
          "output_type": "stream",
          "name": "stdout",
          "text": [
            "   Age group(years) United States,1950-2021 Uganda,1950-2021\n",
            "0               0-4            2665210640.0      519693594.0\n",
            "1               5-9            2668027455.0      430624776.0\n",
            "2             10-14            2679617305.0      364621694.0\n",
            "3             15-19            2641486119.0      304857173.0\n",
            "4             20-24            2577774727.0      247983694.0\n",
            "5             25-29            2545208491.0      196924943.0\n",
            "6             30-34            2503870046.0      154941831.0\n",
            "7             35-39            2414993437.0      122755538.0\n",
            "8             40-44            2310941145.0       98369926.0\n",
            "9             45-49            2179233684.0       78607475.0\n",
            "10            50-54            2031594854.0       61767003.0\n",
            "11            55-59            1846346004.0       47654243.0\n",
            "12            60-64            1607991820.0       35805208.0\n",
            "13            65-69            1363344713.0       25540584.0\n",
            "14            70-74            1074644842.0       16577941.0\n",
            "15            75-79             791310710.0        9379062.0\n",
            "16            80-84             516180293.0        4328277.0\n",
            "17              85+             420464895.0        1794163.0\n"
          ]
        }
      ]
    },
    {
      "cell_type": "markdown",
      "source": [
        "Population estimates based on 5-year age by groups and sex using variant Median (adjust to top=\"85+\""
      ],
      "metadata": {
        "id": "V1g6tm2kwFQG"
      }
    },
    {
      "cell_type": "markdown",
      "source": [
        "#===============DEADLINE TIME======================DEADLINE TIME====="
      ],
      "metadata": {
        "id": "YQ8LaZoqk503"
      }
    },
    {
      "cell_type": "markdown",
      "source": [
        "Extraction of Table 1 from the paper \"AGE STANDARDIZATION OF RATES: A NEW WHO STANDARD, Authors: Omar B, Ahmad, Cynthia Boschi-Pinto, et.al. GPE Discussion Series of Paper: No 31 EIP/GPE/EBD World Health Organization 2001"
      ],
      "metadata": {
        "id": "TLGEo3rbsmfe"
      }
    },
    {
      "cell_type": "code",
      "source": [
        "camelot_df = extract_table_from_pdf(Path,9)\n",
        "\n",
        "\n",
        "age_st_cols=[\"Age group\",\"Segi (“world”) standard\",\"Scandinavian (“European”) standard\", \"WHO World Standard*\"]\n",
        "age_st=pd.DataFrame(camelot_df.loc[2:19,:].values,index=range(18),columns=age_st_cols)\n",
        "\n",
        "\n",
        "print(age_st.head(18))\n",
        "age_st.to_csv(\"age_st.csv\")\n"
      ],
      "metadata": {
        "id": "IoGqSer3snws",
        "colab": {
          "base_uri": "https://localhost:8080/"
        },
        "outputId": "da0751a5-1225-46e5-a2b1-876493b85e9e"
      },
      "execution_count": null,
      "outputs": [
        {
          "output_type": "stream",
          "name": "stdout",
          "text": [
            "   Age group Segi (“world”) standard Scandinavian (“European”) standard  \\\n",
            "0        0-4                   12.00                               8.00   \n",
            "1        5-9                   10.00                               7.00   \n",
            "2      10-14                    9.00                               7.00   \n",
            "3      15-19                    9.00                               7.00   \n",
            "4      20-24                    8.00                               7.00   \n",
            "5      25-29                    8.00                               7.00   \n",
            "6      30-34                    6.00                               7.00   \n",
            "7      35-39                    6.00                               7.00   \n",
            "8      40-44                    6.00                               7.00   \n",
            "9      45-49                    6.00                               7.00   \n",
            "10     50-54                    5.00                               7.00   \n",
            "11     55-59                    4.00                               6.00   \n",
            "12     60-64                    4.00                               5.00   \n",
            "13     65-69                    3.00                               4.00   \n",
            "14     70-74                    2.00                               3.00   \n",
            "15     75-79                    1.00                               2.00   \n",
            "16     80-84                    0.50                               1.00   \n",
            "17       85+                    0.50                               1.00   \n",
            "\n",
            "   WHO World Standard*  \n",
            "0                 8.86  \n",
            "1                 8.69  \n",
            "2                 8.60  \n",
            "3                 8.47  \n",
            "4                 8.22  \n",
            "5                 7.93  \n",
            "6                 7.61  \n",
            "7                 7.15  \n",
            "8                 6.59  \n",
            "9                 6.04  \n",
            "10                5.37  \n",
            "11                4.55  \n",
            "12                3.72  \n",
            "13                2.96  \n",
            "14                2.21  \n",
            "15                1.52  \n",
            "16                0.91  \n",
            "17                0.63  \n"
          ]
        }
      ]
    },
    {
      "cell_type": "markdown",
      "source": [
        "Extraction Table from the Instructions dcoument Data Analysis Exercise : Our Wolrd in Data Junior Data Scientist Application"
      ],
      "metadata": {
        "id": "C1_4mXbKugMk"
      }
    },
    {
      "cell_type": "code",
      "source": [
        "\n",
        "camelot_df = extract_table_from_pdf(Path1,3)\n",
        "\n",
        "death_rate_cols=[\"Age group (years)\" ,\"Death rate, United States, 2019\",\"Death rate, Uganda, 2019\"]\n",
        "death_rate=pd.DataFrame(camelot_df.loc[2:19,:].values,index=range(18),columns=death_rate_cols)\n",
        "\n",
        "death_rate.to_csv(\"death_rate_.csv\")\n",
        "\n",
        "print(death_rate.head(18))\n"
      ],
      "metadata": {
        "id": "Af9BlgaiuhEo",
        "colab": {
          "base_uri": "https://localhost:8080/"
        },
        "outputId": "cc4ac3af-deec-42c8-b544-fda4c22ba5b1"
      },
      "execution_count": null,
      "outputs": [
        {
          "output_type": "stream",
          "name": "stdout",
          "text": [
            "   Age group (years) Death rate, United States, 2019 Death rate, Uganda, 2019\n",
            "0                0-4                            0.04                     0.40\n",
            "1                5-9                            0.02                     0.17\n",
            "2              10-14                            0.02                     0.07\n",
            "3              15-19                            0.02                     0.23\n",
            "4              20-24                            0.06                     0.38\n",
            "5              25-29                            0.11                     0.40\n",
            "6              30-34                            0.29                     0.75\n",
            "7              35-39                            0.56                     1.11\n",
            "8              40-44                            1.42                     2.04\n",
            "9              45-49                            4.00                     5.51\n",
            "10             50-54                           14.13                    13.26\n",
            "11             55-59                           37.22                    33.25\n",
            "12             60-64                           66.48                    69.62\n",
            "13             65-69                          108.66                   120.78\n",
            "14             70-74                          213.10                   229.88\n",
            "15             75-79                          333.06                   341.06\n",
            "16             80-84                          491.10                   529.31\n",
            "17               85+                          894.45                   710.40\n"
          ]
        }
      ]
    },
    {
      "cell_type": "markdown",
      "source": [
        "# Calculation of crude death rate (CDR)"
      ],
      "metadata": {
        "id": "nZFbcUgxwAaF"
      }
    },
    {
      "cell_type": "markdown",
      "source": [
        "$\\text{Crude Death Rate (CDR)} = \\left( \\frac{\\text{Number of Deaths within a Year}}{\\text{Mid-Year Population}} \\right) \\times 1000 $\n"
      ],
      "metadata": {
        "id": "sUM9YsZNgB21"
      }
    },
    {
      "cell_type": "markdown",
      "source": [
        "The crude death rate is a fundamental statistic that helps in understanding the health status of a population, though it does not account for the age structure of the population, which can significantly affect the interpretation of this rate.\n"
      ],
      "metadata": {
        "id": "KBSH9fH6gCe6"
      }
    },
    {
      "cell_type": "code",
      "source": [
        "scale=100000\n",
        "crd_top=[]\n",
        "for ii in range(death_rate.shape[1]-1):\n",
        "    col=death_rate.columns[ii+1]\n",
        "    col_=pop_est.columns[ii+1]\n",
        "    crd_=death_rate[col].astype(float).dot(pop_est[col_].astype(float))/scale\n",
        "    crd_/=pop_est[col_].sum()\n",
        "    crd_*=scale\n",
        "    crd_top.append(round(crd_,1))\n",
        "\n",
        "\n",
        "crude_death=pd.DataFrame(crd_top).T\n",
        "crude_death.columns=[\"Crude death rate, United States, 2019\", \"Crude death rate, Uganda, 2019\"]\n",
        "\n",
        "print(crude_death.head())\n"
      ],
      "metadata": {
        "id": "NQ0893bBaI_f",
        "colab": {
          "base_uri": "https://localhost:8080/"
        },
        "outputId": "8cbc6140-9c44-4963-c6c6-2d13df31c505"
      },
      "execution_count": null,
      "outputs": [
        {
          "output_type": "stream",
          "name": "stdout",
          "text": [
            "   Crude death rate, United States, 2019  Crude death rate, Uganda, 2019\n",
            "0                                   42.8                             7.3\n"
          ]
        }
      ]
    },
    {
      "cell_type": "markdown",
      "source": [
        "#Calculation of age-specific death rate (ASDR)\n"
      ],
      "metadata": {
        "id": "PNoPx3SQaQ2v"
      }
    },
    {
      "cell_type": "markdown",
      "source": [
        " $  \\text{ASDR} = \\frac{\\sum (\\text{Age-specific death rate} \\times \\text{Standard population in each age group})}{\\text{Total standard population}} \\times 100,000\n",
        " $"
      ],
      "metadata": {
        "id": "mJS0mWoLezur"
      }
    },
    {
      "cell_type": "markdown",
      "source": [
        "This formula will give you the age-standardized death rate, which is a weighted average of the age-specific death rates, where the weights are the proportions of each age group within the standard population. This rate can then be used to make fair comparisons across different populations or within the same population over time."
      ],
      "metadata": {
        "id": "2FcznXkAfNXf"
      }
    },
    {
      "cell_type": "code",
      "source": [
        "scale=100000\n",
        "crd_top=[]\n",
        "for ii in range(death_rate.shape[1]-1):\n",
        "    crd_top_=[]\n",
        "    for jj in range(age_st.shape[1]-1):\n",
        "        col=death_rate.columns[ii+1]\n",
        "        col_=age_st.columns[jj+1]\n",
        "        crd_=death_rate[col].astype(float).dot(age_st[col_].astype(float))/scale\n",
        "        crd_/=age_st[col_].astype(float).sum()\n",
        "        crd_*=scale\n",
        "        crd_top_.append(round(crd_,1))\n",
        "    crd_top.append(crd_top_)\n",
        "#print(crd_top)\n",
        "\n",
        "asdr=pd.DataFrame(crd_top)\n",
        "asdr.columns=age_st.columns[1:]\n",
        "asdr.index=[\"United States\",\"Uganda\"]\n",
        "\n",
        "print(asdr.head())\n"
      ],
      "metadata": {
        "id": "JancU3HLadK-",
        "colab": {
          "base_uri": "https://localhost:8080/"
        },
        "outputId": "4e8b4658-d463-4fb8-cd92-aebc24f13b0e"
      },
      "execution_count": null,
      "outputs": [
        {
          "output_type": "stream",
          "name": "stdout",
          "text": [
            "               Segi (“world”) standard  Scandinavian (“European”) standard  \\\n",
            "United States                     23.0                                38.3   \n",
            "Uganda                            23.3                                38.1   \n",
            "\n",
            "               WHO World Standard*  \n",
            "United States                 28.4  \n",
            "Uganda                        28.7  \n"
          ]
        }
      ]
    }
  ]
}